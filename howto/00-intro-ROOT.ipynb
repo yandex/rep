{
 "cells": [
  {
   "cell_type": "markdown",
   "metadata": {},
   "source": [
    "# 5 minutes intro to IPython for ROOT users\n",
    "\n",
    "In this notebook we show how to use inside IPython __ROOT__ (C++ library, de-facto standard in High Energy Physics).\n",
    "\n",
    "This notebook is aimed to help __ROOT__ users.\n",
    "\n",
    "Working using ROOT-way loops is very slow in python and in most cases useless.\n",
    "\n",
    "You're proposed to use `root_numpy` &mdash; a very convenient python library to operate with ROOT (`root_numpy` is included in REP docker image, but it is installed quite easily)."
   ]
  },
  {
   "cell_type": "markdown",
   "metadata": {},
   "source": [
    "### Allowing inline plots"
   ]
  },
  {
   "cell_type": "code",
   "execution_count": 1,
   "metadata": {
    "collapsed": false
   },
   "outputs": [],
   "source": [
    "%matplotlib inline"
   ]
  },
  {
   "cell_type": "markdown",
   "metadata": {},
   "source": [
    "## Creating ROOT file using root_numpy\n",
    "\n",
    "There are two libraries to work with ROOT files\n",
    "\n",
    "* rootpy http://www.rootpy.org - direct wrapper to ROOT methods.\n",
    "* root_numpy http://rootpy.github.io/root_numpy/ - new-style, efficient and simple library to deal with ROOT files from python\n",
    "\n",
    "Let's show how to use the second library."
   ]
  },
  {
   "cell_type": "code",
   "execution_count": 2,
   "metadata": {
    "collapsed": false
   },
   "outputs": [],
   "source": [
    "import numpy\n",
    "import root_numpy\n",
    "# generating random data\n",
    "data = numpy.random.normal(size=[10000, 2])\n",
    "# adding names of columns\n",
    "data = data.view([('first', float), ('second', float)])\n",
    "# saving to file\n",
    "root_numpy.array2root(data, filename='./toy_datasets/random.root', treename='tree', mode='recreate')"
   ]
  },
  {
   "cell_type": "code",
   "execution_count": 3,
   "metadata": {
    "collapsed": false
   },
   "outputs": [
    {
     "name": "stdout",
     "output_type": "stream",
     "text": [
      "MiniBooNE_PID.txt README.md         magic04.data      random.root       wget-log\r\n"
     ]
    }
   ],
   "source": [
    "!ls ./toy_datasets"
   ]
  },
  {
   "cell_type": "markdown",
   "metadata": {},
   "source": [
    "## Add column to the ROOT file using root_numpy"
   ]
  },
  {
   "cell_type": "code",
   "execution_count": 4,
   "metadata": {
    "collapsed": false
   },
   "outputs": [],
   "source": [
    "from rootpy.io import root_open\n",
    "with root_open('./toy_datasets/random.root', mode='a') as myfile:\n",
    "    new_column = numpy.array(numpy.ones([10000, 1]) , dtype=[('new', 'f8')])\n",
    "    root_numpy.array2tree(new_column, tree=myfile.tree)\n",
    "    myfile.write()"
   ]
  },
  {
   "cell_type": "code",
   "execution_count": 5,
   "metadata": {
    "collapsed": false
   },
   "outputs": [
    {
     "data": {
      "text/plain": [
       "array([(-0.7293706390084891, -0.6434950644122529),\n",
       "       (0.9144554461677479, 0.18204403981590392),\n",
       "       (1.4880249632214615, 1.0750267248542769), ...,\n",
       "       (0.8314923070439978, -0.18743518192156958),\n",
       "       (0.43746295194683626, -0.3003532169872483),\n",
       "       (0.8587695590082538, 0.17430817995134756)], \n",
       "      dtype=[('first', '<f8'), ('second', '<f8')])"
      ]
     },
     "execution_count": 5,
     "metadata": {},
     "output_type": "execute_result"
    }
   ],
   "source": [
    "root_numpy.root2array('./toy_datasets/random.root', treename='tree')"
   ]
  },
  {
   "cell_type": "markdown",
   "metadata": {},
   "source": [
    "# Plot function using ROOT\n",
    "\n",
    "pay attention that `canvas` is on the last line. This is an output value of cell.\n",
    "\n",
    "When IPython cell return canvas, it is automatically drawn"
   ]
  },
  {
   "cell_type": "code",
   "execution_count": 6,
   "metadata": {
    "collapsed": false
   },
   "outputs": [
    {
     "data": {
      "image/png": "[encoded data removed]",
      "text/plain": [
       "<ROOT.TCanvas object (\"my_canvas\") at 0x10e741ec0>"
      ]
     },
     "execution_count": 6,
     "metadata": {},
     "output_type": "execute_result"
    }
   ],
   "source": [
    "import ROOT\n",
    "from rep.plotting import canvas\n",
    "canvas = canvas('my_canvas')\n",
    "function1 = ROOT.TF1( 'fun1', 'abs(sin(x)/x)', 0, 10)\n",
    "canvas.SetGridx()\n",
    "canvas.SetGridy()\n",
    "function1.Draw()\n",
    "# Drawing output (last line is considered as output of cell)\n",
    "canvas"
   ]
  },
  {
   "cell_type": "markdown",
   "metadata": {},
   "source": [
    "# Plot histogram using ROOT for branch in root file"
   ]
  },
  {
   "cell_type": "code",
   "execution_count": 7,
   "metadata": {
    "collapsed": false
   },
   "outputs": [
    {
     "data": {
      "image/png": "[encoded data removed]",
      "text/plain": [
       "<ROOT.TCanvas object (\"my_canvas\") at 0x10e741ec0>"
      ]
     },
     "execution_count": 7,
     "metadata": {},
     "output_type": "execute_result"
    }
   ],
   "source": [
    "File = ROOT.TFile(\"toy_datasets/random.root\")\n",
    "Tree = File.Get(\"tree\")\n",
    "Tree.Draw(\"first\")\n",
    "canvas"
   ]
  },
  {
   "cell_type": "markdown",
   "metadata": {},
   "source": [
    "## use histogram settings"
   ]
  },
  {
   "cell_type": "code",
   "execution_count": 8,
   "metadata": {
    "collapsed": false
   },
   "outputs": [
    {
     "data": {
      "image/png": "[encoded data removed]",
      "text/plain": [
       "<ROOT.TCanvas object (\"my_canvas\") at 0x10e741ec0>"
      ]
     },
     "execution_count": 8,
     "metadata": {},
     "output_type": "execute_result"
    }
   ],
   "source": [
    "# we need to keep histogram in any variable, otherwise it will be deleted automatically\n",
    "h1 = ROOT.TH1F(\"h1\",\"hist from tree\",50, -0.25, 0.25)\n",
    "Tree.Draw(\"first>>h1\")\n",
    "canvas"
   ]
  },
  {
   "cell_type": "markdown",
   "metadata": {},
   "source": [
    "# root_numpy + ipython way\n",
    "\n",
    "But IPython provides it's own plotting / data manipulation techniques. Brief demostration below.\n",
    "\n",
    "Pay attention that there is column-expression which is evaluated on-the-fly."
   ]
  },
  {
   "cell_type": "code",
   "execution_count": 9,
   "metadata": {
    "collapsed": false
   },
   "outputs": [],
   "source": [
    "data = root_numpy.root2array(\"toy_datasets/random.root\", \n",
    "                             treename='tree', \n",
    "                             branches=['first', 'second', 'sin(first) * exp(second)'], \n",
    "                             selection='first > 0')"
   ]
  },
  {
   "cell_type": "markdown",
   "metadata": {},
   "source": [
    "__in the example above__ we selected three branches (one of which is an expression and was computed on-the-fly) and selections"
   ]
  },
  {
   "cell_type": "code",
   "execution_count": 10,
   "metadata": {
    "collapsed": false
   },
   "outputs": [],
   "source": [
    "# taking, i.e. first 10 elements using python slicing:\n",
    "data2 = data[:10]"
   ]
  },
  {
   "cell_type": "markdown",
   "metadata": {},
   "source": [
    "### Convert to pandas\n",
    "\n",
    "pandas allows easy manipulations with data."
   ]
  },
  {
   "cell_type": "code",
   "execution_count": 11,
   "metadata": {
    "collapsed": false
   },
   "outputs": [
    {
     "data": {
      "text/html": [
       "<div>\n",
       "<table border=\"1\" class=\"dataframe\">\n",
       "  <thead>\n",
       "    <tr style=\"text-align: right;\">\n",
       "      <th></th>\n",
       "      <th>first</th>\n",
       "      <th>second</th>\n",
       "      <th>sin(first) * exp(second)</th>\n",
       "    </tr>\n",
       "  </thead>\n",
       "  <tbody>\n",
       "    <tr>\n",
       "      <th>0</th>\n",
       "      <td>0.914455</td>\n",
       "      <td>0.182044</td>\n",
       "      <td>0.950413</td>\n",
       "    </tr>\n",
       "    <tr>\n",
       "      <th>1</th>\n",
       "      <td>1.488025</td>\n",
       "      <td>1.075027</td>\n",
       "      <td>2.920040</td>\n",
       "    </tr>\n",
       "    <tr>\n",
       "      <th>2</th>\n",
       "      <td>0.104062</td>\n",
       "      <td>-0.600626</td>\n",
       "      <td>0.056972</td>\n",
       "    </tr>\n",
       "    <tr>\n",
       "      <th>3</th>\n",
       "      <td>0.947616</td>\n",
       "      <td>-1.385899</td>\n",
       "      <td>0.203087</td>\n",
       "    </tr>\n",
       "    <tr>\n",
       "      <th>4</th>\n",
       "      <td>2.528759</td>\n",
       "      <td>1.408811</td>\n",
       "      <td>2.353142</td>\n",
       "    </tr>\n",
       "  </tbody>\n",
       "</table>\n",
       "</div>"
      ],
      "text/plain": [
       "      first    second  sin(first) * exp(second)\n",
       "0  0.914455  0.182044                  0.950413\n",
       "1  1.488025  1.075027                  2.920040\n",
       "2  0.104062 -0.600626                  0.056972\n",
       "3  0.947616 -1.385899                  0.203087\n",
       "4  2.528759  1.408811                  2.353142"
      ]
     },
     "execution_count": 11,
     "metadata": {},
     "output_type": "execute_result"
    }
   ],
   "source": [
    "import pandas\n",
    "dataframe = pandas.DataFrame(data)\n",
    "# looking at first elements\n",
    "dataframe.head()"
   ]
  },
  {
   "cell_type": "code",
   "execution_count": 12,
   "metadata": {
    "collapsed": false
   },
   "outputs": [
    {
     "data": {
      "text/html": [
       "<div>\n",
       "<table border=\"1\" class=\"dataframe\">\n",
       "  <thead>\n",
       "    <tr style=\"text-align: right;\">\n",
       "      <th></th>\n",
       "      <th>first</th>\n",
       "      <th>second</th>\n",
       "      <th>sin(first) * exp(second)</th>\n",
       "    </tr>\n",
       "  </thead>\n",
       "  <tbody>\n",
       "    <tr>\n",
       "      <th>0</th>\n",
       "      <td>0.914455</td>\n",
       "      <td>0.182044</td>\n",
       "      <td>0.950413</td>\n",
       "    </tr>\n",
       "    <tr>\n",
       "      <th>1</th>\n",
       "      <td>1.488025</td>\n",
       "      <td>1.075027</td>\n",
       "      <td>2.920040</td>\n",
       "    </tr>\n",
       "    <tr>\n",
       "      <th>4</th>\n",
       "      <td>2.528759</td>\n",
       "      <td>1.408811</td>\n",
       "      <td>2.353142</td>\n",
       "    </tr>\n",
       "    <tr>\n",
       "      <th>7</th>\n",
       "      <td>0.248552</td>\n",
       "      <td>1.790109</td>\n",
       "      <td>1.473571</td>\n",
       "    </tr>\n",
       "    <tr>\n",
       "      <th>8</th>\n",
       "      <td>0.248634</td>\n",
       "      <td>2.085482</td>\n",
       "      <td>1.980567</td>\n",
       "    </tr>\n",
       "  </tbody>\n",
       "</table>\n",
       "</div>"
      ],
      "text/plain": [
       "      first    second  sin(first) * exp(second)\n",
       "0  0.914455  0.182044                  0.950413\n",
       "1  1.488025  1.075027                  2.920040\n",
       "4  2.528759  1.408811                  2.353142\n",
       "7  0.248552  1.790109                  1.473571\n",
       "8  0.248634  2.085482                  1.980567"
      ]
     },
     "execution_count": 12,
     "metadata": {},
     "output_type": "execute_result"
    }
   ],
   "source": [
    "# taking elements, that satisfy some condition, again showing only first\n",
    "dataframe[dataframe['second'] > 0].head()"
   ]
  },
  {
   "cell_type": "code",
   "execution_count": 13,
   "metadata": {
    "collapsed": false
   },
   "outputs": [
    {
     "data": {
      "text/html": [
       "<div>\n",
       "<table border=\"1\" class=\"dataframe\">\n",
       "  <thead>\n",
       "    <tr style=\"text-align: right;\">\n",
       "      <th></th>\n",
       "      <th>first</th>\n",
       "      <th>second</th>\n",
       "      <th>sin(first) * exp(second)</th>\n",
       "      <th>third</th>\n",
       "    </tr>\n",
       "  </thead>\n",
       "  <tbody>\n",
       "    <tr>\n",
       "      <th>0</th>\n",
       "      <td>0.914455</td>\n",
       "      <td>0.182044</td>\n",
       "      <td>0.950413</td>\n",
       "      <td>1.096499</td>\n",
       "    </tr>\n",
       "    <tr>\n",
       "      <th>1</th>\n",
       "      <td>1.488025</td>\n",
       "      <td>1.075027</td>\n",
       "      <td>2.920040</td>\n",
       "      <td>2.563052</td>\n",
       "    </tr>\n",
       "    <tr>\n",
       "      <th>2</th>\n",
       "      <td>0.104062</td>\n",
       "      <td>-0.600626</td>\n",
       "      <td>0.056972</td>\n",
       "      <td>-0.496564</td>\n",
       "    </tr>\n",
       "    <tr>\n",
       "      <th>3</th>\n",
       "      <td>0.947616</td>\n",
       "      <td>-1.385899</td>\n",
       "      <td>0.203087</td>\n",
       "      <td>-0.438283</td>\n",
       "    </tr>\n",
       "    <tr>\n",
       "      <th>4</th>\n",
       "      <td>2.528759</td>\n",
       "      <td>1.408811</td>\n",
       "      <td>2.353142</td>\n",
       "      <td>3.937570</td>\n",
       "    </tr>\n",
       "  </tbody>\n",
       "</table>\n",
       "</div>"
      ],
      "text/plain": [
       "      first    second  sin(first) * exp(second)     third\n",
       "0  0.914455  0.182044                  0.950413  1.096499\n",
       "1  1.488025  1.075027                  2.920040  2.563052\n",
       "2  0.104062 -0.600626                  0.056972 -0.496564\n",
       "3  0.947616 -1.385899                  0.203087 -0.438283\n",
       "4  2.528759  1.408811                  2.353142  3.937570"
      ]
     },
     "execution_count": 13,
     "metadata": {},
     "output_type": "execute_result"
    }
   ],
   "source": [
    "# adding new column as result of some operation\n",
    "dataframe['third'] = dataframe['first'] +  dataframe['second'] \n",
    "dataframe.head()"
   ]
  },
  {
   "cell_type": "markdown",
   "metadata": {},
   "source": [
    "## Histograms in python\n",
    "\n",
    "Default library for plotting in python is matplotlib."
   ]
  },
  {
   "cell_type": "code",
   "execution_count": 14,
   "metadata": {
    "collapsed": false
   },
   "outputs": [
    {
     "data": {
      "text/plain": [
       "<matplotlib.text.Text at 0x10464c290>"
      ]
     },
     "execution_count": 14,
     "metadata": {},
     "output_type": "execute_result"
    },
    {
     "data": {
      "image/png": "[encoded data removed]",
      "text/plain": [
       "<matplotlib.figure.Figure at 0x113609390>"
      ]
     },
     "metadata": {},
     "output_type": "display_data"
    }
   ],
   "source": [
    "import matplotlib.pyplot as plt\n",
    "plt.figure(figsize=(9, 7))\n",
    "plt.hist(data['first'], bins=50)\n",
    "plt.xlabel('first')"
   ]
  },
  {
   "cell_type": "code",
   "execution_count": 15,
   "metadata": {
    "collapsed": false
   },
   "outputs": [
    {
     "data": {
      "text/plain": [
       "<matplotlib.text.Text at 0x1137e5a10>"
      ]
     },
     "execution_count": 15,
     "metadata": {},
     "output_type": "execute_result"
    },
    {
     "data": {
      "image/png": "[encoded data removed]",
      "text/plain": [
       "<matplotlib.figure.Figure at 0x113609450>"
      ]
     },
     "metadata": {},
     "output_type": "display_data"
    }
   ],
   "source": [
    "plt.figure(figsize=(9, 7))\n",
    "plt.hist(data['second'], bins=50)\n",
    "plt.xlabel('second')"
   ]
  },
  {
   "cell_type": "markdown",
   "metadata": {},
   "source": [
    "## Summary\n",
    "\n",
    "- you can work in standard way with ROOT (by using rootpy), but it is slow\n",
    "- you can benefit serously from python tools (those are fast and very flexible):\n",
    "  - matplotlib for plotting\n",
    "  - numpy / pandas for manipating arrays/dataframes\n",
    "- to deal with ROOT files, you can use `root_numpy` as a very nice bridge between two worlds."
   ]
  }
 ],
 "metadata": {
  "kernelspec": {
   "display_name": "Python 2",
   "language": "python",
   "name": "python2"
  },
  "language_info": {
   "codemirror_mode": {
    "name": "ipython",
    "version": 2
   },
   "file_extension": ".py",
   "mimetype": "text/x-python",
   "name": "python",
   "nbconvert_exporter": "python",
   "pygments_lexer": "ipython2",
   "version": "2.7.11"
  }
 },
 "nbformat": 4,
 "nbformat_minor": 0
}
